{
 "cells": [
  {
   "cell_type": "code",
   "execution_count": 4,
   "metadata": {},
   "outputs": [
    {
     "name": "stdout",
     "output_type": "stream",
     "text": [
      "        Name        OS  Capacity  Ram  Weight    Company  inch\n",
      "0  Galaxy S8   Android        64    4   149.0    Samsung   5.8\n",
      "1  Lumia 950  windows         32    3   150.0  Microsoft   5.2\n",
      "2  Xpreia L1   Android        16    2   180.0       Sony   5.5\n",
      "3  iphone 7        ios       128    2   138.0      Apple   4.7\n",
      "4    U Ultra   Android        64    4   170.0        HTC   5.7\n",
      "5  Galaxy S5   Android        16    2   145.0    Samsung   5.1\n",
      "6  iphone 5s       ios        32    1   112.0      Apple   4.0\n",
      "7    Moto G5   Android        16    3   144.5   Motorola   5.0\n",
      "8     Pixel    Android       128    4   143.0     Google   5.0\n"
     ]
    }
   ],
   "source": [
    "import numpy as np\n",
    "import pandas as pd \n",
    "smartphones = pd.read_csv('smartphones.csv')\n",
    "print(smartphones)"
   ]
  },
  {
   "cell_type": "code",
   "execution_count": null,
   "metadata": {},
   "outputs": [],
   "source": []
  }
 ],
 "metadata": {
  "kernelspec": {
   "display_name": "Python 3",
   "language": "python",
   "name": "python3"
  },
  "language_info": {
   "codemirror_mode": {
    "name": "ipython",
    "version": 3
   },
   "file_extension": ".py",
   "mimetype": "text/x-python",
   "name": "python",
   "nbconvert_exporter": "python",
   "pygments_lexer": "ipython3",
   "version": "3.7.1"
  }
 },
 "nbformat": 4,
 "nbformat_minor": 2
}
